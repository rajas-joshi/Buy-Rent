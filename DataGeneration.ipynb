{
 "cells": [
  {
   "cell_type": "code",
   "execution_count": null,
   "metadata": {
    "id": "CUJ3iTvsATPb"
   },
   "outputs": [],
   "source": [
    "import pandas as pd"
   ]
  },
  {
   "cell_type": "code",
   "execution_count": null,
   "metadata": {
    "id": "qkoNGcM3A377"
   },
   "outputs": [],
   "source": [
    "df = pd.read_csv(\"CAR DETAILS FROM CAR DEKHO.csv\")\n",
    "# df = df.iloc[:, :].values"
   ]
  },
  {
   "cell_type": "code",
   "execution_count": null,
   "metadata": {
    "id": "1Vo5WobzBdvS"
   },
   "outputs": [],
   "source": [
    "fo = df.loc[df[\"owner\"] == \"First Owner\" , :]\n",
    "fo = fo.loc[fo[\"year\"] >= 2005, :]\n",
    "fo.sort_values(['year'])\n",
    "fo = fo.iloc[:,:].values"
   ]
  },
  {
   "cell_type": "code",
   "execution_count": null,
   "metadata": {
    "colab": {
     "base_uri": "https://localhost:8080/"
    },
    "id": "myJBin-hMbMs",
    "outputId": "f0dc011f-9786-435d-d95a-b381e895b12a"
   },
   "outputs": [
    {
     "data": {
      "text/plain": [
       "array([ 5000,  3571, 11111, ..., 18888, 18000,  4339])"
      ]
     },
     "execution_count": 4,
     "metadata": {
      "tags": []
     },
     "output_type": "execute_result"
    }
   ],
   "source": [
    "import numpy as np\n",
    "km_per_year = np.empty(2793, dtype = int) \n",
    "for i in range (0, 2792):\n",
    "  km_per_year[i] = fo[i, 2]/(2021 - fo[i, 0])\n",
    "km_per_year"
   ]
  },
  {
   "cell_type": "code",
   "execution_count": null,
   "metadata": {
    "id": "Yj26OLRnSYta"
   },
   "outputs": [],
   "source": [
    "fo = pd.DataFrame(fo, columns = ['year', 'selling_price', 'km_driven', 'fuel', 'owner'])\n",
    "fo['km/year'] = km_per_year\n",
    "fo = fo.iloc[:,:].values"
   ]
  },
  {
   "cell_type": "code",
   "execution_count": null,
   "metadata": {
    "id": "w_jdj7DEUuzR"
   },
   "outputs": [],
   "source": [
    "resale = np.empty(2793, dtype = int)\n",
    "for i in range (0, 2793) :\n",
    "  if (fo[i, 0] > 2016) :\n",
    "    resale[i] =  fo[i, 1] * (1 - (0.15*(2021-fo[i, 0]))) \n",
    "  else :\n",
    "    resale[i] = fo[i, 1] * 0.4"
   ]
  },
  {
   "cell_type": "code",
   "execution_count": null,
   "metadata": {
    "id": "C4wRqMRBWB26"
   },
   "outputs": [],
   "source": [
    "fo = pd.DataFrame(fo, columns = ['year', 'selling_price', 'km_driven', 'fuel', 'owner', 'km/year'])\n",
    "fo['resale_value'] = resale"
   ]
  },
  {
   "cell_type": "code",
   "execution_count": null,
   "metadata": {
    "id": "ZQggbW2JW-Z6"
   },
   "outputs": [],
   "source": [
    "fo = fo.loc[fo[\"selling_price\"] >= 200000, :]\n",
    "fo = fo.iloc[:,:].values"
   ]
  },
  {
   "cell_type": "code",
   "execution_count": null,
   "metadata": {
    "id": "t01iooY-Wkx7"
   },
   "outputs": [],
   "source": [
    "petrol_cost_per_litre = np.array([43.6175, 50.9775, 46.3825, 48.68, 43.365, 50.9825, 66.6575, 76.79, 67.6175, 76.4225, 70.905, 64.5125, 69.585, 81.79, 73.04, 72.645])\n",
    "diesel_cost_per_litre = np.array([35.2, 39.96, 34.94, 36.12, 34.45, 39.6, 45.84, 45.28, 57.17, 65.84, 59.86, 56.81, 60.47, 73.79, 67.3, 65.51])\n",
    "CNG_cost_per_kg = np.array([18.38, 19.20, 20, 22.5, 24, 22, 30, 38, 50, 36, 43, 43, 40, 47, 48, 42])\n",
    "fuel_cost = np.empty(2431, dtype = int)\n",
    "miscellaneous_cost = np.empty(2431, dtype = int)\n",
    "for i in range (0, 2431) :\n",
    "  kms = fo[i, 5]\n",
    "  miscellaneous_cost[i] = fo[i, 2]\n",
    "  fuel_cost[i] = 0;\n",
    "  if (fo[i, 3] == 'Petrol') :\n",
    "    for j in range(fo[i, 0]+1, 2021) :\n",
    "      fuel_cost[i] += kms / 18 * petrol_cost_per_litre[j-2005] \n",
    "  elif (fo[i, 3] == 'Diesel') :\n",
    "    for j in range(fo[i, 0]+1, 2021) :\n",
    "      fuel_cost[i] += kms / 24 * diesel_cost_per_litre[j-2005]\n",
    "  elif (fo[i, 3] == 'CNG') :\n",
    "    for j in range(fo[i, 0]+1, 2021) :\n",
    "      fuel_cost[i] += kms /30 * CNG_cost_per_kg[j-2005]"
   ]
  },
  {
   "cell_type": "code",
   "execution_count": null,
   "metadata": {
    "id": "HaOS3ykKElVZ"
   },
   "outputs": [],
   "source": [
    "taxi_charges = np.empty(2431, dtype = int) \n",
    "for i in range (0, 2431) :\n",
    "  if (fo[i, 0] > 2015) :\n",
    "    taxi_charges[i] = fo[i, -2] * 12 * (2021-fo[i, 0])\n",
    "  elif (fo[i, 0] > 2010) :\n",
    "    taxi_charges[i] = fo[i, -2] * 15 * (2015-fo[i, 0]) + fo[i, -2] * 12 * 5\n",
    "  elif (fo[i, 0] >= 2005) :\n",
    "    taxi_charges[i] = fo[i, -2] * 10 * (2010- fo[i, 0]) + fo[i, -2] * 15 * 5 + fo[i, -2] * 12 * 5"
   ]
  },
  {
   "cell_type": "code",
   "execution_count": null,
   "metadata": {
    "colab": {
     "base_uri": "https://localhost:8080/"
    },
    "id": "dWsb9npR9_uV",
    "outputId": "8bc513ca-a903-4465-f1a2-848065b11b9c"
   },
   "outputs": [
    {
     "data": {
      "text/plain": [
       "array([[2012, 600000, 100000, ..., 'First Owner', 11111, 240000],\n",
       "       [2017, 250000, 46000, ..., 'First Owner', 11500, 100000],\n",
       "       [2016, 550000, 25000, ..., 'First Owner', 5000, 220000],\n",
       "       ...,\n",
       "       [2012, 600000, 170000, ..., 'First Owner', 18888, 240000],\n",
       "       [2016, 865000, 90000, ..., 'First Owner', 18000, 346000],\n",
       "       [2016, 225000, 40000, ..., 'First Owner', 4339, 90000]],\n",
       "      dtype=object)"
      ]
     },
     "execution_count": 11,
     "metadata": {
      "tags": []
     },
     "output_type": "execute_result"
    }
   ],
   "source": [
    "fo"
   ]
  },
  {
   "cell_type": "code",
   "execution_count": null,
   "metadata": {
    "id": "W2G7uvIW9MRR"
   },
   "outputs": [],
   "source": [
    "fo = pd.DataFrame(fo, columns = ['year', 'selling_price', 'km_driven', 'fuel', 'owner', 'km/year', 'resale_value'])\n",
    "fo['fuel_cost'] = fuel_cost\n",
    "fo['miscellaneous_cost'] = miscellaneous_cost\n",
    "fo['taxi_charges'] = taxi_charges"
   ]
  },
  {
   "cell_type": "code",
   "execution_count": null,
   "metadata": {
    "id": "UIT0E58dXHhZ"
   },
   "outputs": [],
   "source": [
    "fo = fo.iloc[:,:].values"
   ]
  },
  {
   "cell_type": "code",
   "execution_count": null,
   "metadata": {
    "id": "TE4NdiJcV2Oh"
   },
   "outputs": [],
   "source": [
    "final_Y_N = np.empty(2431, dtype = object)\n",
    "for i in range (0, 2431) :\n",
    "  cost_of_owning = fo[i, 1] + fo[i, 7] + fo[i, 8] - fo[i, 6]\n",
    "  if (cost_of_owning > fo[i, -1]) :\n",
    "    final_Y_N[i] = 1\n",
    "  else :\n",
    "    final_Y_N[i] = 0"
   ]
  },
  {
   "cell_type": "code",
   "execution_count": null,
   "metadata": {
    "id": "EUSGNwp_-MdP"
   },
   "outputs": [],
   "source": [
    "fo = pd.DataFrame(fo, columns = ['year', 'selling_price', 'km_driven', 'fuel', 'owner', 'km/year', 'resale_value', 'fuel_cost', 'miscellaneous_cost', 'taxi_charges'])\n",
    "fo['Rent/Own'] = final_Y_N\n",
    "fo = pd.DataFrame(fo, columns = ['year', 'selling_price', 'km_driven', 'fuel', 'owner', 'km/year', 'resale_value', 'fuel_cost', 'miscellaneous_cost', 'taxi_charges', 'Rent/Own'])\n",
    "fo.to_csv('Final_data.csv')"
   ]
  }
 ],
 "metadata": {
  "colab": {
   "name": "DataGeneration.ipynb",
   "provenance": []
  },
  "kernelspec": {
   "display_name": "Python 3",
   "language": "python",
   "name": "python3"
  },
  "language_info": {
   "codemirror_mode": {
    "name": "ipython",
    "version": 3
   },
   "file_extension": ".py",
   "mimetype": "text/x-python",
   "name": "python",
   "nbconvert_exporter": "python",
   "pygments_lexer": "ipython3",
   "version": "3.8.8"
  }
 },
 "nbformat": 4,
 "nbformat_minor": 1
}
